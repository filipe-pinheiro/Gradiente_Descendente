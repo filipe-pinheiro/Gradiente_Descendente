{
 "cells": [
  {
   "cell_type": "code",
   "execution_count": 131,
   "id": "d408b8c4-752c-4e75-abde-f8dfac0bceb6",
   "metadata": {},
   "outputs": [],
   "source": [
    "import pandas as pd\n",
    "import numpy as np\n",
    "import matplotlib.pyplot as plt"
   ]
  },
  {
   "cell_type": "markdown",
   "id": "84e9ac96-ffd2-4164-83b3-d4e408cbb3c6",
   "metadata": {},
   "source": [
    "### Inicialmente é dividir o data set em batch (grupos). O tamanho varia e cabe ajustar conforme problema"
   ]
  },
  {
   "cell_type": "code",
   "execution_count": 132,
   "id": "1d027643-c20f-48e1-9535-7bf64163021f",
   "metadata": {},
   "outputs": [
    {
     "name": "stderr",
     "output_type": "stream",
     "text": [
      "<>:1: SyntaxWarning: invalid escape sequence '\\D'\n",
      "<>:1: SyntaxWarning: invalid escape sequence '\\D'\n",
      "C:\\Users\\T18228\\AppData\\Local\\Temp\\ipykernel_2112\\2371076278.py:1: SyntaxWarning: invalid escape sequence '\\D'\n",
      "  data = np.loadtxt(\".\\Data\\data1.txt\", delimiter = \",\")\n"
     ]
    }
   ],
   "source": [
    "data = np.loadtxt(\".\\Data\\data1.txt\", delimiter = \",\")\n",
    "x = data[:, 0]\n",
    "y = data[:, 1]"
   ]
  },
  {
   "cell_type": "code",
   "execution_count": 133,
   "id": "58e793d2-2b50-4288-a2fd-c1ee5bd6478c",
   "metadata": {},
   "outputs": [],
   "source": [
    "def split_batch(features, targets, num_batches):\n",
    "    x_split = []\n",
    "    y_split = []\n",
    "    n = 0\n",
    "\n",
    "    for i in range(len(features)):\n",
    "        vazio_x = []\n",
    "        vazio_y = []\n",
    "        for j in range(num_batches):\n",
    "            if n <= len(features) - 1:\n",
    "                vazio_x.append(features[n])\n",
    "                vazio_y.append(targets[n])\n",
    "                n += 1\n",
    "                \n",
    "        if len(vazio_x) != 0:\n",
    "            x_split.append(vazio_x)\n",
    "            y_split.append(vazio_y)\n",
    "        \n",
    "    return x_split, y_split"
   ]
  },
  {
   "cell_type": "code",
   "execution_count": 134,
   "id": "0c8d38bd-f3c9-4b29-bac6-315675fc9aaa",
   "metadata": {},
   "outputs": [],
   "source": [
    "X, Y = split_batch(x, y, 20)"
   ]
  },
  {
   "cell_type": "markdown",
   "id": "64393cf8-98e2-463f-ae47-377ce55d3a51",
   "metadata": {},
   "source": [
    "### O modelo de regressão é dado por:\n",
    "\n",
    "\n",
    "$$\n",
    "\\hat{y}_i = h_\\theta(x_i) = \\theta_0 + \\theta_1 x_i\n",
    "$$\n",
    "\n",
    "### Onde sua função de custo é:\n",
    "\n",
    "$$\n",
    "J(\\theta) = \\frac{1}{2m} \\sum_{i=1}^{m} \\left( \\hat{y}^{(i)} - y^{(i)} \\right)^2\n",
    "$$"
   ]
  },
  {
   "cell_type": "code",
   "execution_count": 135,
   "id": "1f2f9028-92c7-4d92-8493-b4cfcf32d708",
   "metadata": {},
   "outputs": [],
   "source": [
    "##Função de custo\n",
    "def calcular_custo(theta_values, features, targets, samples):\n",
    "    theta_0 = theta_values[0]\n",
    "    theta_1 = theta_values[1]\n",
    "    sigma = 0\n",
    "    \n",
    "    for i in range(samples):\n",
    "        pred = theta_0 + theta_1 * features[i]\n",
    "        erro = pred - targets[i]\n",
    "        sigma += erro**2\n",
    "\n",
    "    return (1/(2*samples)) * sigma"
   ]
  },
  {
   "cell_type": "code",
   "execution_count": 136,
   "id": "76ed70d6-a32c-441f-b9de-93e5aa1e328f",
   "metadata": {},
   "outputs": [],
   "source": [
    "##Calcular o gradiente\n",
    "def calcular_gradiente(theta_values, features, targets, samples):\n",
    "    theta_0 = theta_values[0]\n",
    "    theta_1 = theta_values[1]\n",
    "    sigma_0 = 0\n",
    "    sigma_1 = 0\n",
    "\n",
    "    for i in range(samples):\n",
    "        pred = theta_0 + theta_1 * features[i]\n",
    "        erro = pred - targets[i]\n",
    "        sigma_0 += erro\n",
    "        sigma_1 += erro * features[i]\n",
    "        \n",
    "    grad_theta_0 = (1/samples) * sigma_0\n",
    "    grad_theta_1 = (1/samples) * sigma_1\n",
    "\n",
    "    return [grad_theta_0, grad_theta_1]"
   ]
  },
  {
   "cell_type": "code",
   "execution_count": 137,
   "id": "b3e385be-b6bd-4d0f-8294-7a28674ce80d",
   "metadata": {},
   "outputs": [],
   "source": [
    "def atualizar_theta(theta_values, features, targets, samples, learning_rate, num_iters):\n",
    "    theta_0 = theta_values[0]\n",
    "    theta_1 = theta_values[1]\n",
    "    sigma_0 = 0\n",
    "    sigma_1 = 0\n",
    "    armazenar_custo = []\n",
    "\n",
    "    for i in range(num_iters):\n",
    "        armazenar_custo.append(calcular_custo([theta_0, theta_1], features, targets, samples))\n",
    "        grad = calcular_gradiente([theta_0, theta_1], features, targets, samples)\n",
    "        theta_0 = theta_0 - learning_rate * grad[0]\n",
    "        theta_1 = theta_1 - learning_rate * grad[1]\n",
    "\n",
    "    return [theta_0, theta_1], armazenar_custo"
   ]
  },
  {
   "cell_type": "code",
   "execution_count": 138,
   "id": "6d4c1610-b843-465e-a8f3-6bccfba1730f",
   "metadata": {},
   "outputs": [],
   "source": [
    "def executar_minibatch(theta_values, features, targets, learning_rate):\n",
    "    theta_vector = theta_values\n",
    "    custo_vector = []\n",
    "    for i in range(int(len(X))):\n",
    "        samples = len(X[i])\n",
    "        theta_vector, custo = atualizar_theta(theta_vector, X[i], Y[i], samples, learning_rate, 1)\n",
    "        custo_vector.append(custo[0])\n",
    "\n",
    "    return theta_vector, custo_vector"
   ]
  },
  {
   "cell_type": "code",
   "execution_count": 139,
   "id": "7b13e853-7835-4caa-8e35-e4fc4c4d490f",
   "metadata": {},
   "outputs": [],
   "source": [
    "theta = [0, 0]"
   ]
  },
  {
   "cell_type": "code",
   "execution_count": 140,
   "id": "bf4a2325-6f59-445c-a972-486976c6cb01",
   "metadata": {},
   "outputs": [],
   "source": [
    "a, b = executar_minibatch(theta, X, Y, 0.01)"
   ]
  },
  {
   "cell_type": "code",
   "execution_count": 141,
   "id": "9423ae15-b4b3-440a-8f15-5c1fe09356ed",
   "metadata": {},
   "outputs": [
    {
     "data": {
      "text/plain": [
       "[<matplotlib.lines.Line2D at 0x278239186e0>]"
      ]
     },
     "execution_count": 141,
     "metadata": {},
     "output_type": "execute_result"
    },
    {
     "data": {
      "image/png": "[encoded data removed]",
      "text/plain": [
       "<Figure size 640x480 with 1 Axes>"
      ]
     },
     "metadata": {},
     "output_type": "display_data"
    }
   ],
   "source": [
    "plt.plot(b)"
   ]
  },
  {
   "cell_type": "code",
   "execution_count": 142,
   "id": "108a1d73-2e4d-42e4-8f2b-693bcbd2867d",
   "metadata": {},
   "outputs": [
    {
     "data": {
      "text/plain": [
       "4.596988185969721"
      ]
     },
     "execution_count": 142,
     "metadata": {},
     "output_type": "execute_result"
    }
   ],
   "source": [
    "b[-1]"
   ]
  }
 ],
 "metadata": {
  "kernelspec": {
   "display_name": "Python 3 (ipykernel)",
   "language": "python",
   "name": "python3"
  },
  "language_info": {
   "codemirror_mode": {
    "name": "ipython",
    "version": 3
   },
   "file_extension": ".py",
   "mimetype": "text/x-python",
   "name": "python",
   "nbconvert_exporter": "python",
   "pygments_lexer": "ipython3",
   "version": "3.12.2"
  }
 },
 "nbformat": 4,
 "nbformat_minor": 5
}
